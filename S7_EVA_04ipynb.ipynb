{
  "nbformat": 4,
  "nbformat_minor": 0,
  "metadata": {
    "kernelspec": {
      "name": "python3",
      "display_name": "Python 3"
    },
    "language_info": {
      "codemirror_mode": {
        "name": "ipython",
        "version": 3
      },
      "file_extension": ".py",
      "mimetype": "text/x-python",
      "name": "python",
      "nbconvert_exporter": "python",
      "pygments_lexer": "ipython3",
      "version": "3.6.6"
    },
    "colab": {
      "name": "S7_EVA_04ipynb",
      "provenance": [],
      "collapsed_sections": []
    },
    "accelerator": "GPU"
  },
  "cells": [
    {
      "cell_type": "code",
      "metadata": {
        "id": "QVbdg0z4poCc",
        "colab_type": "code",
        "colab": {}
      },
      "source": [
        "%matplotlib inline"
      ],
      "execution_count": 0,
      "outputs": []
    },
    {
      "cell_type": "markdown",
      "metadata": {
        "id": "fPogbueepoCh",
        "colab_type": "text"
      },
      "source": [
        "\n",
        "Training a Classifier\n",
        "=====================\n",
        "\n",
        "This is it. You have seen how to define neural networks, compute loss and make\n",
        "updates to the weights of the network.\n",
        "\n",
        "Now you might be thinking,\n",
        "\n",
        "What about data?\n",
        "----------------\n",
        "\n",
        "Generally, when you have to deal with image, text, audio or video data,\n",
        "you can use standard python packages that load data into a numpy array.\n",
        "Then you can convert this array into a ``torch.*Tensor``.\n",
        "\n",
        "-  For images, packages such as Pillow, OpenCV are useful\n",
        "-  For audio, packages such as scipy and librosa\n",
        "-  For text, either raw Python or Cython based loading, or NLTK and\n",
        "   SpaCy are useful\n",
        "\n",
        "Specifically for vision, we have created a package called\n",
        "``torchvision``, that has data loaders for common datasets such as\n",
        "Imagenet, CIFAR10, MNIST, etc. and data transformers for images, viz.,\n",
        "``torchvision.datasets`` and ``torch.utils.data.DataLoader``.\n",
        "\n",
        "This provides a huge convenience and avoids writing boilerplate code.\n",
        "\n",
        "For this tutorial, we will use the CIFAR10 dataset.\n",
        "It has the classes: ‘airplane’, ‘automobile’, ‘bird’, ‘cat’, ‘deer’,\n",
        "‘dog’, ‘frog’, ‘horse’, ‘ship’, ‘truck’. The images in CIFAR-10 are of\n",
        "size 3x32x32, i.e. 3-channel color images of 32x32 pixels in size.\n",
        "\n",
        ".. figure:: /_static/img/cifar10.png\n",
        "   :alt: cifar10\n",
        "\n",
        "   cifar10\n",
        "\n",
        "\n",
        "Training an image classifier\n",
        "----------------------------\n",
        "\n",
        "We will do the following steps in order:\n",
        "\n",
        "1. Load and normalizing the CIFAR10 training and test datasets using\n",
        "   ``torchvision``\n",
        "2. Define a Convolution Neural Network\n",
        "3. Define a loss function\n",
        "4. Train the network on the training data\n",
        "5. Test the network on the test data\n",
        "\n",
        "1. Loading and normalizing CIFAR10\n",
        "^^^^^^^^^^^^^^^^^^^^^^^^^^^^^^^^^^\n",
        "\n",
        "Using ``torchvision``, it’s extremely easy to load CIFAR10.\n",
        "\n"
      ]
    },
    {
      "cell_type": "code",
      "metadata": {
        "id": "-yVpodAMpoCi",
        "colab_type": "code",
        "colab": {}
      },
      "source": [
        "import torch\n",
        "import torchvision\n",
        "import torchvision.transforms as transforms"
      ],
      "execution_count": 0,
      "outputs": []
    },
    {
      "cell_type": "markdown",
      "metadata": {
        "id": "5kjt4e2TpoCk",
        "colab_type": "text"
      },
      "source": [
        "The output of torchvision datasets are PILImage images of range [0, 1].\n",
        "We transform them to Tensors of normalized range [-1, 1].\n",
        "\n"
      ]
    },
    {
      "cell_type": "code",
      "metadata": {
        "id": "D8Tjigo2poCl",
        "colab_type": "code",
        "outputId": "685a43dc-c8a1-4035-8a6e-a120ba5b4045",
        "colab": {
          "base_uri": "https://localhost:8080/",
          "height": 52
        }
      },
      "source": [
        "transform = transforms.Compose(\n",
        "    [transforms.ToTensor(),\n",
        "     transforms.Normalize((0.5, 0.5, 0.5), (0.5, 0.5, 0.5))])\n",
        "\n",
        "trainset = torchvision.datasets.CIFAR10(root='./data', train=True,\n",
        "                                        download=True, transform=transform)\n",
        "trainloader = torch.utils.data.DataLoader(trainset, batch_size=4,\n",
        "                                          shuffle=True, num_workers=2)\n",
        "\n",
        "testset = torchvision.datasets.CIFAR10(root='./data', train=False,\n",
        "                                       download=True, transform=transform)\n",
        "testloader = torch.utils.data.DataLoader(testset, batch_size=4,\n",
        "                                         shuffle=False, num_workers=2)\n",
        "\n",
        "classes = ('plane', 'car', 'bird', 'cat',\n",
        "           'deer', 'dog', 'frog', 'horse', 'ship', 'truck')"
      ],
      "execution_count": 23,
      "outputs": [
        {
          "output_type": "stream",
          "text": [
            "Files already downloaded and verified\n",
            "Files already downloaded and verified\n"
          ],
          "name": "stdout"
        }
      ]
    },
    {
      "cell_type": "markdown",
      "metadata": {
        "id": "_cj433rtpoCn",
        "colab_type": "text"
      },
      "source": [
        "Let us show some of the training images, for fun.\n",
        "\n"
      ]
    },
    {
      "cell_type": "code",
      "metadata": {
        "id": "daA7bADhpoCo",
        "colab_type": "code",
        "outputId": "aca099bd-28d3-459e-e760-d95e3582d2cc",
        "colab": {
          "base_uri": "https://localhost:8080/",
          "height": 155
        }
      },
      "source": [
        "import matplotlib.pyplot as plt\n",
        "import numpy as np\n",
        "\n",
        "# functions to show an image\n",
        "\n",
        "\n",
        "def imshow(img):\n",
        "    img = img / 2 + 0.5     # unnormalize\n",
        "    npimg = img.numpy()\n",
        "    plt.imshow(np.transpose(npimg, (1, 2, 0)))\n",
        "\n",
        "\n",
        "# get some random training images\n",
        "dataiter = iter(trainloader)\n",
        "images, labels = dataiter.next()\n",
        "\n",
        "# show images\n",
        "imshow(torchvision.utils.make_grid(images))\n",
        "# print labels\n",
        "print(' '.join('%5s' % classes[labels[j]] for j in range(4)))"
      ],
      "execution_count": 25,
      "outputs": [
        {
          "output_type": "stream",
          "text": [
            " ship  ship  deer   cat\n"
          ],
          "name": "stdout"
        },
        {
          "output_type": "display_data",
          "data": {
            "image/png": "[encoded data removed]",
            "text/plain": [
              "<Figure size 432x288 with 1 Axes>"
            ]
          },
          "metadata": {
            "tags": [],
            "needs_background": "light"
          }
        }
      ]
    },
    {
      "cell_type": "markdown",
      "metadata": {
        "id": "28OpHA_LpoCq",
        "colab_type": "text"
      },
      "source": [
        "2. Define a Convolution Neural Network\n",
        "^^^^^^^^^^^^^^^^^^^^^^^^^^^^^^^^^^^^^^\n",
        "Copy the neural network from the Neural Networks section before and modify it to\n",
        "take 3-channel images (instead of 1-channel images as it was defined).\n",
        "\n"
      ]
    },
    {
      "cell_type": "code",
      "metadata": {
        "id": "FahNwzzNIjxA",
        "colab_type": "code",
        "colab": {}
      },
      "source": [
        "class depthwise_separable_conv(nn.Module):\n",
        "    def __init__(self, nin, nout):\n",
        "        super(depthwise_separable_conv, self).__init__()\n",
        "        self.depthwise = nn.Conv2d(nin, nin, kernel_size=3, padding=1, groups=nin)\n",
        "        self.pointwise = nn.Conv2d(nin, nout, kernel_size=1)\n",
        "\n",
        "    def forward(self, x):\n",
        "        out = self.depthwise(x)\n",
        "        out = self.pointwise(out)\n",
        "        return out"
      ],
      "execution_count": 0,
      "outputs": []
    },
    {
      "cell_type": "code",
      "metadata": {
        "id": "0jjLwLLQpoCr",
        "colab_type": "code",
        "colab": {}
      },
      "source": [
        "import torch.nn as nn\n",
        "import torch.nn.functional as F\n",
        "\n",
        "\n",
        "class Net(nn.Module):\n",
        "    def __init__(self):\n",
        "        super(Net, self).__init__()\n",
        "\n",
        "        self.conv1 = nn.Sequential(\n",
        "            nn.Conv2d(in_channels=3, out_channels=32, kernel_size=(3,3), padding=1, stride=1), \n",
        "            nn.BatchNorm2d(32),\n",
        "            nn.Dropout(0.25),\n",
        "            nn.ReLU()\n",
        "        )\n",
        "        #Output=32 RF=3X3 [RFin + (Ksize-1 * JMPin) => 1+(3-1)*1 =3]  :JMPin=1, Jout= JMPin X s = 1\n",
        "        \n",
        "        self.depthwise = nn.Sequential(\n",
        "            nn.Conv2d(in_channels=32, out_channels=32, kernel_size=(3,3), padding=1,groups=32) \n",
        "        )\n",
        "\n",
        "        self.pointwise = nn.Sequential(\n",
        "            nn.Conv2d(in_channels=32, out_channels=32, kernel_size=1),\n",
        "            nn.BatchNorm2d(32),\n",
        "            nn.Dropout(0.25),\n",
        "            nn.ReLU()    \n",
        "        )\n",
        "\n",
        "        #Output=32 RF=5X5  [RFin + (Ksize-1 * JMPin) => 3+(3-1)*1 =5] :JMPin=1, Jout =JMPin X s =1\n",
        "\n",
        "        self.pool1 = nn.MaxPool2d(2, 2)\n",
        "\n",
        "        #Output=16 RF=6X6 [RFin + (Ksize-1 * JMPin) => 5+(2-1)*1 =6] :JMPin=1, Jout=  JMPin X s =2\n",
        "\n",
        "        self.conv3 = nn.Sequential(\n",
        "            nn.Conv2d(in_channels=32, out_channels=64, kernel_size=(3,3), padding=1, stride=1),\n",
        "            nn.BatchNorm2d(64),\n",
        "            nn.Dropout(0.25),\n",
        "            nn.ReLU()\n",
        "        )\n",
        "        #Output=16 RF=10X10 [RFin + (Ksize-1 * JMPin) => 6+(3-1)*2 =10] : Jout= JMPin X s = 2X1 :JMPin=2, Jout= JMPin X s = 2X1=2\n",
        "        self.dilated = nn.Sequential(\n",
        "            nn.Conv2d(in_channels=64, out_channels=64, kernel_size=(3,3), padding=1, stride=1,dilation=2),\n",
        "            nn.BatchNorm2d(64),\n",
        "            nn.Dropout(0.25),\n",
        "            nn.ReLU()\n",
        "        )\n",
        "        #Output=16 RF=10X10 [RFin + (Ksize-1 * JMPin) => 6+(3-1)*2 =10] : Jout= JMPin X s = 2X1 :JMPin=2, Jout= JMPin X s = 2X1=2\n",
        "\n",
        "        self.pool2 = nn.MaxPool2d(2, 2)\n",
        "        \n",
        "        #Output=8 RF=10X10 [RFin + (Ksize-1 * JMPin) => 6+(3-1)*2 =10] : Jout= JMPin X s = 2X1 :JMPin=2, Jout= JMPin X s = 2X1=2\n",
        "\n",
        "        self.conv5 = nn.Sequential(\n",
        "            nn.Conv2d(in_channels=64, out_channels=128, kernel_size=(3,3), padding=1, stride=1),\n",
        "            nn.BatchNorm2d(128),\n",
        "            nn.Dropout(0.25),\n",
        "            nn.ReLU()\n",
        "        )\n",
        "        #Output=8 RF=10X10 [RFin + (Ksize-1 * JMPin) => 6+(3-1)*2 =10] : Jout= JMPin X s = 2X1 :JMPin=2, Jout= JMPin X s = 2X1=2\n",
        "\n",
        "        self.conv6 = nn.Sequential(\n",
        "            nn.Conv2d(in_channels=128, out_channels=128, kernel_size=(3,3), padding=1, stride=1),\n",
        "            nn.BatchNorm2d(128),\n",
        "            nn.Dropout(0.25),\n",
        "            nn.ReLU()\n",
        "        )\n",
        "        #Output=8 RF=10X10 [RFin + (Ksize-1 * JMPin) => 6+(3-1)*2 =10] : Jout= JMPin X s = 2X1 :JMPin=2, Jout= JMPin X s = 2X1=2\n",
        "\n",
        "        self.pool3 = nn.MaxPool2d(2, 2)\n",
        "        \n",
        "        #Output=4 RF=10X10 [RFin + (Ksize-1 * JMPin) => 6+(3-1)*2 =10] : Jout= JMPin X s = 2X1 :JMPin=2, Jout= JMPin X s = 2X1=2\n",
        "\n",
        "        self.conv7 = nn.Sequential(\n",
        "            nn.Conv2d(in_channels=128, out_channels=128, kernel_size=(3,3), padding=1, stride=1),\n",
        "            nn.BatchNorm2d(128),\n",
        "            nn.Dropout(0.25),\n",
        "            nn.ReLU()\n",
        "        )\n",
        "        #Output=2 RF=10X10 [RFin + (Ksize-1 * JMPin) => 6+(3-1)*2 =10] : Jout= JMPin X s = 2X1 :JMPin=2, Jout= JMPin X s = 2X1=2\n",
        "\n",
        "        self.gap =nn.AvgPool2d(kernel_size=2) ## 1*1*128\n",
        "        self.fc1 = nn.Linear(1 * 1 * 128, 256)\n",
        "        self.fc2 = nn.Linear(256, 128)\n",
        "        self.fc3 = nn.Linear(128, 10)\n",
        "\n",
        "    def forward(self, x):\n",
        "      x = self.conv1(x)\n",
        "      x = self.depthwise(x)\n",
        "      x = self.pointwise(x)\n",
        "      x = self.pool1(x)\n",
        "      x = self.conv3(x)\n",
        "      x = self.dilated(x)\n",
        "      x = self.pool2(x)\n",
        "      x = self.conv5(x)\n",
        "      x = self.conv6(x)\n",
        "      x = self.pool3(x)\n",
        "      x = self.conv7(x)  \n",
        "      x = self.gap(x)\n",
        "      x = x.view(-1, 128 * 1 * 1)\n",
        "      x = F.relu(self.fc1(x))\n",
        "      x = F.relu(self.fc2(x))\n",
        "      x = self.fc3(x)\n",
        "      #return F.log_softmax(x)\n",
        "      return x\n",
        "\n",
        "net = Net()"
      ],
      "execution_count": 0,
      "outputs": []
    },
    {
      "cell_type": "code",
      "metadata": {
        "id": "1bibhkKQaM_s",
        "colab_type": "code",
        "outputId": "90a7128d-9408-4fd0-db2e-10cf9691052f",
        "colab": {
          "base_uri": "https://localhost:8080/",
          "height": 884
        }
      },
      "source": [
        "!pip install torchsummary\n",
        "from torchsummary import summary\n",
        "use_cuda = torch.cuda.is_available()\n",
        "device = torch.device(\"cuda\" if use_cuda else \"cpu\")\n",
        "model = net.to(device)\n",
        "summary(model, input_size=(3, 32, 32))"
      ],
      "execution_count": 31,
      "outputs": [
        {
          "output_type": "stream",
          "text": [
            "Requirement already satisfied: torchsummary in /usr/local/lib/python3.6/dist-packages (1.5.1)\n",
            "----------------------------------------------------------------\n",
            "        Layer (type)               Output Shape         Param #\n",
            "================================================================\n",
            "            Conv2d-1           [-1, 32, 32, 32]             896\n",
            "       BatchNorm2d-2           [-1, 32, 32, 32]              64\n",
            "           Dropout-3           [-1, 32, 32, 32]               0\n",
            "              ReLU-4           [-1, 32, 32, 32]               0\n",
            "            Conv2d-5           [-1, 32, 32, 32]             320\n",
            "            Conv2d-6           [-1, 32, 32, 32]           1,056\n",
            "       BatchNorm2d-7           [-1, 32, 32, 32]              64\n",
            "           Dropout-8           [-1, 32, 32, 32]               0\n",
            "              ReLU-9           [-1, 32, 32, 32]               0\n",
            "        MaxPool2d-10           [-1, 32, 16, 16]               0\n",
            "           Conv2d-11           [-1, 64, 16, 16]          18,496\n",
            "      BatchNorm2d-12           [-1, 64, 16, 16]             128\n",
            "          Dropout-13           [-1, 64, 16, 16]               0\n",
            "             ReLU-14           [-1, 64, 16, 16]               0\n",
            "           Conv2d-15           [-1, 64, 14, 14]          36,928\n",
            "      BatchNorm2d-16           [-1, 64, 14, 14]             128\n",
            "          Dropout-17           [-1, 64, 14, 14]               0\n",
            "             ReLU-18           [-1, 64, 14, 14]               0\n",
            "        MaxPool2d-19             [-1, 64, 7, 7]               0\n",
            "           Conv2d-20            [-1, 128, 7, 7]          73,856\n",
            "      BatchNorm2d-21            [-1, 128, 7, 7]             256\n",
            "          Dropout-22            [-1, 128, 7, 7]               0\n",
            "             ReLU-23            [-1, 128, 7, 7]               0\n",
            "           Conv2d-24            [-1, 128, 7, 7]         147,584\n",
            "      BatchNorm2d-25            [-1, 128, 7, 7]             256\n",
            "          Dropout-26            [-1, 128, 7, 7]               0\n",
            "             ReLU-27            [-1, 128, 7, 7]               0\n",
            "        MaxPool2d-28            [-1, 128, 3, 3]               0\n",
            "           Conv2d-29            [-1, 128, 3, 3]         147,584\n",
            "      BatchNorm2d-30            [-1, 128, 3, 3]             256\n",
            "          Dropout-31            [-1, 128, 3, 3]               0\n",
            "             ReLU-32            [-1, 128, 3, 3]               0\n",
            "        AvgPool2d-33            [-1, 128, 1, 1]               0\n",
            "           Linear-34                  [-1, 256]          33,024\n",
            "           Linear-35                  [-1, 128]          32,896\n",
            "           Linear-36                   [-1, 10]           1,290\n",
            "================================================================\n",
            "Total params: 495,082\n",
            "Trainable params: 495,082\n",
            "Non-trainable params: 0\n",
            "----------------------------------------------------------------\n",
            "Input size (MB): 0.01\n",
            "Forward/backward pass size (MB): 3.65\n",
            "Params size (MB): 1.89\n",
            "Estimated Total Size (MB): 5.55\n",
            "----------------------------------------------------------------\n"
          ],
          "name": "stdout"
        }
      ]
    },
    {
      "cell_type": "markdown",
      "metadata": {
        "id": "Wdw2NNCUpoCu",
        "colab_type": "text"
      },
      "source": [
        "3. Define a Loss function and optimizer\n",
        "^^^^^^^^^^^^^^^^^^^^^^^^^^^^^^^^^^^^^^^\n",
        "Let's use a Classification Cross-Entropy loss and SGD with momentum.\n",
        "\n"
      ]
    },
    {
      "cell_type": "code",
      "metadata": {
        "id": "M4xBbDROpoCv",
        "colab_type": "code",
        "colab": {}
      },
      "source": [
        "import torch.optim as optim\n",
        "\n",
        "criterion = nn.CrossEntropyLoss()\n",
        "optimizer = optim.SGD(net.parameters(), lr=0.001, momentum=0.9)"
      ],
      "execution_count": 0,
      "outputs": []
    },
    {
      "cell_type": "markdown",
      "metadata": {
        "id": "O-odOrhdpoC2",
        "colab_type": "text"
      },
      "source": [
        "4. Train the network\n",
        "^^^^^^^^^^^^^^^^^^^^\n",
        "\n",
        "This is when things start to get interesting.\n",
        "We simply have to loop over our data iterator, and feed the inputs to the\n",
        "network and optimize.\n",
        "\n"
      ]
    },
    {
      "cell_type": "code",
      "metadata": {
        "id": "kkuRfo1IpoC3",
        "colab_type": "code",
        "outputId": "c956b811-58a8-43ec-82dd-51483c56a43d",
        "colab": {
          "base_uri": "https://localhost:8080/",
          "height": 1000
        }
      },
      "source": [
        "for epoch in range(40):  # loop over the dataset multiple times\n",
        "\n",
        "    running_loss = 0.0\n",
        "    for i, data in enumerate(trainloader, 0):\n",
        "        # get the inputs\n",
        "        inputs, labels = data\n",
        "        \n",
        "        inputs, labels = inputs.cuda(), labels.cuda()\n",
        "        # I added this line ####\n",
        "        inputs, labels = inputs.to(device), labels.to(device)\n",
        "\n",
        "        # zero the parameter gradients\n",
        "        optimizer.zero_grad()\n",
        "\n",
        "        # forward + backward + optimize\n",
        "        outputs = model(inputs)\n",
        "        loss = criterion(outputs, labels)\n",
        "        loss.backward()\n",
        "        optimizer.step()\n",
        "\n",
        "        # print statistics\n",
        "        running_loss += loss.item()\n",
        "        if i % 2000 == 1999:    # print every 2000 mini-batches\n",
        "            print('[%d, %5d] loss: %.3f' %\n",
        "                  (epoch + 1, i + 1, running_loss / 2000))\n",
        "            running_loss = 0.0\n",
        "\n",
        "print('Finished Training')"
      ],
      "execution_count": 33,
      "outputs": [
        {
          "output_type": "stream",
          "text": [
            "[1,  2000] loss: 2.041\n",
            "[1,  4000] loss: 1.785\n",
            "[1,  6000] loss: 1.613\n",
            "[1,  8000] loss: 1.499\n",
            "[1, 10000] loss: 1.406\n",
            "[1, 12000] loss: 1.331\n",
            "[2,  2000] loss: 1.269\n",
            "[2,  4000] loss: 1.194\n",
            "[2,  6000] loss: 1.188\n",
            "[2,  8000] loss: 1.141\n",
            "[2, 10000] loss: 1.090\n",
            "[2, 12000] loss: 1.091\n",
            "[3,  2000] loss: 1.034\n",
            "[3,  4000] loss: 1.003\n",
            "[3,  6000] loss: 0.985\n",
            "[3,  8000] loss: 0.956\n",
            "[3, 10000] loss: 0.958\n",
            "[3, 12000] loss: 0.942\n",
            "[4,  2000] loss: 0.874\n",
            "[4,  4000] loss: 0.889\n",
            "[4,  6000] loss: 0.885\n",
            "[4,  8000] loss: 0.851\n",
            "[4, 10000] loss: 0.863\n",
            "[4, 12000] loss: 0.847\n",
            "[5,  2000] loss: 0.820\n",
            "[5,  4000] loss: 0.816\n",
            "[5,  6000] loss: 0.799\n",
            "[5,  8000] loss: 0.808\n",
            "[5, 10000] loss: 0.807\n",
            "[5, 12000] loss: 0.775\n",
            "[6,  2000] loss: 0.765\n",
            "[6,  4000] loss: 0.767\n",
            "[6,  6000] loss: 0.765\n",
            "[6,  8000] loss: 0.746\n",
            "[6, 10000] loss: 0.735\n",
            "[6, 12000] loss: 0.744\n",
            "[7,  2000] loss: 0.701\n",
            "[7,  4000] loss: 0.714\n",
            "[7,  6000] loss: 0.707\n",
            "[7,  8000] loss: 0.724\n",
            "[7, 10000] loss: 0.717\n",
            "[7, 12000] loss: 0.711\n",
            "[8,  2000] loss: 0.672\n",
            "[8,  4000] loss: 0.672\n",
            "[8,  6000] loss: 0.680\n",
            "[8,  8000] loss: 0.698\n",
            "[8, 10000] loss: 0.675\n",
            "[8, 12000] loss: 0.672\n",
            "[9,  2000] loss: 0.653\n",
            "[9,  4000] loss: 0.651\n",
            "[9,  6000] loss: 0.657\n",
            "[9,  8000] loss: 0.650\n",
            "[9, 10000] loss: 0.650\n",
            "[9, 12000] loss: 0.663\n",
            "[10,  2000] loss: 0.627\n",
            "[10,  4000] loss: 0.616\n",
            "[10,  6000] loss: 0.653\n",
            "[10,  8000] loss: 0.601\n",
            "[10, 10000] loss: 0.643\n",
            "[10, 12000] loss: 0.625\n",
            "[11,  2000] loss: 0.595\n",
            "[11,  4000] loss: 0.609\n",
            "[11,  6000] loss: 0.592\n",
            "[11,  8000] loss: 0.606\n",
            "[11, 10000] loss: 0.604\n",
            "[11, 12000] loss: 0.619\n",
            "[12,  2000] loss: 0.572\n",
            "[12,  4000] loss: 0.589\n",
            "[12,  6000] loss: 0.585\n",
            "[12,  8000] loss: 0.589\n",
            "[12, 10000] loss: 0.576\n",
            "[12, 12000] loss: 0.599\n",
            "[13,  2000] loss: 0.551\n",
            "[13,  4000] loss: 0.570\n",
            "[13,  6000] loss: 0.574\n",
            "[13,  8000] loss: 0.590\n",
            "[13, 10000] loss: 0.567\n",
            "[13, 12000] loss: 0.581\n",
            "[14,  2000] loss: 0.543\n",
            "[14,  4000] loss: 0.553\n",
            "[14,  6000] loss: 0.546\n",
            "[14,  8000] loss: 0.557\n",
            "[14, 10000] loss: 0.567\n",
            "[14, 12000] loss: 0.562\n",
            "[15,  2000] loss: 0.533\n",
            "[15,  4000] loss: 0.529\n",
            "[15,  6000] loss: 0.533\n",
            "[15,  8000] loss: 0.536\n",
            "[15, 10000] loss: 0.539\n",
            "[15, 12000] loss: 0.557\n",
            "[16,  2000] loss: 0.528\n",
            "[16,  4000] loss: 0.510\n",
            "[16,  6000] loss: 0.550\n",
            "[16,  8000] loss: 0.528\n",
            "[16, 10000] loss: 0.536\n",
            "[16, 12000] loss: 0.543\n",
            "[17,  2000] loss: 0.521\n",
            "[17,  4000] loss: 0.503\n",
            "[17,  6000] loss: 0.493\n",
            "[17,  8000] loss: 0.530\n",
            "[17, 10000] loss: 0.512\n",
            "[17, 12000] loss: 0.526\n",
            "[18,  2000] loss: 0.487\n",
            "[18,  4000] loss: 0.501\n",
            "[18,  6000] loss: 0.518\n",
            "[18,  8000] loss: 0.522\n",
            "[18, 10000] loss: 0.524\n",
            "[18, 12000] loss: 0.505\n",
            "[19,  2000] loss: 0.490\n",
            "[19,  4000] loss: 0.492\n",
            "[19,  6000] loss: 0.493\n",
            "[19,  8000] loss: 0.506\n",
            "[19, 10000] loss: 0.512\n",
            "[19, 12000] loss: 0.495\n",
            "[20,  2000] loss: 0.465\n",
            "[20,  4000] loss: 0.476\n",
            "[20,  6000] loss: 0.501\n",
            "[20,  8000] loss: 0.474\n",
            "[20, 10000] loss: 0.509\n",
            "[20, 12000] loss: 0.503\n",
            "[21,  2000] loss: 0.482\n",
            "[21,  4000] loss: 0.459\n",
            "[21,  6000] loss: 0.473\n",
            "[21,  8000] loss: 0.470\n",
            "[21, 10000] loss: 0.483\n",
            "[21, 12000] loss: 0.491\n",
            "[22,  2000] loss: 0.453\n",
            "[22,  4000] loss: 0.468\n",
            "[22,  6000] loss: 0.459\n",
            "[22,  8000] loss: 0.498\n",
            "[22, 10000] loss: 0.473\n",
            "[22, 12000] loss: 0.476\n",
            "[23,  2000] loss: 0.450\n",
            "[23,  4000] loss: 0.451\n",
            "[23,  6000] loss: 0.478\n",
            "[23,  8000] loss: 0.461\n",
            "[23, 10000] loss: 0.455\n",
            "[23, 12000] loss: 0.465\n",
            "[24,  2000] loss: 0.453\n",
            "[24,  4000] loss: 0.436\n",
            "[24,  6000] loss: 0.443\n",
            "[24,  8000] loss: 0.460\n",
            "[24, 10000] loss: 0.461\n",
            "[24, 12000] loss: 0.458\n",
            "[25,  2000] loss: 0.438\n",
            "[25,  4000] loss: 0.433\n",
            "[25,  6000] loss: 0.451\n",
            "[25,  8000] loss: 0.447\n",
            "[25, 10000] loss: 0.458\n",
            "[25, 12000] loss: 0.457\n",
            "[26,  2000] loss: 0.422\n",
            "[26,  4000] loss: 0.443\n",
            "[26,  6000] loss: 0.438\n",
            "[26,  8000] loss: 0.428\n",
            "[26, 10000] loss: 0.445\n",
            "[26, 12000] loss: 0.450\n",
            "[27,  2000] loss: 0.430\n",
            "[27,  4000] loss: 0.420\n",
            "[27,  6000] loss: 0.415\n",
            "[27,  8000] loss: 0.430\n",
            "[27, 10000] loss: 0.443\n",
            "[27, 12000] loss: 0.434\n",
            "[28,  2000] loss: 0.425\n",
            "[28,  4000] loss: 0.416\n",
            "[28,  6000] loss: 0.434\n",
            "[28,  8000] loss: 0.444\n",
            "[28, 10000] loss: 0.427\n",
            "[28, 12000] loss: 0.435\n",
            "[29,  2000] loss: 0.408\n",
            "[29,  4000] loss: 0.410\n",
            "[29,  6000] loss: 0.401\n",
            "[29,  8000] loss: 0.435\n",
            "[29, 10000] loss: 0.437\n",
            "[29, 12000] loss: 0.435\n",
            "[30,  2000] loss: 0.383\n",
            "[30,  4000] loss: 0.401\n",
            "[30,  6000] loss: 0.407\n",
            "[30,  8000] loss: 0.427\n",
            "[30, 10000] loss: 0.418\n",
            "[30, 12000] loss: 0.427\n",
            "[31,  2000] loss: 0.399\n",
            "[31,  4000] loss: 0.422\n",
            "[31,  6000] loss: 0.410\n",
            "[31,  8000] loss: 0.423\n",
            "[31, 10000] loss: 0.413\n",
            "[31, 12000] loss: 0.416\n",
            "[32,  2000] loss: 0.395\n",
            "[32,  4000] loss: 0.399\n",
            "[32,  6000] loss: 0.395\n",
            "[32,  8000] loss: 0.402\n",
            "[32, 10000] loss: 0.417\n",
            "[32, 12000] loss: 0.421\n",
            "[33,  2000] loss: 0.403\n",
            "[33,  4000] loss: 0.393\n",
            "[33,  6000] loss: 0.402\n",
            "[33,  8000] loss: 0.375\n",
            "[33, 10000] loss: 0.400\n",
            "[33, 12000] loss: 0.421\n",
            "[34,  2000] loss: 0.398\n",
            "[34,  4000] loss: 0.392\n",
            "[34,  6000] loss: 0.384\n",
            "[34,  8000] loss: 0.391\n",
            "[34, 10000] loss: 0.408\n",
            "[34, 12000] loss: 0.402\n",
            "[35,  2000] loss: 0.374\n",
            "[35,  4000] loss: 0.395\n",
            "[35,  6000] loss: 0.388\n",
            "[35,  8000] loss: 0.399\n",
            "[35, 10000] loss: 0.375\n",
            "[35, 12000] loss: 0.403\n",
            "[36,  2000] loss: 0.380\n",
            "[36,  4000] loss: 0.377\n",
            "[36,  6000] loss: 0.391\n",
            "[36,  8000] loss: 0.385\n",
            "[36, 10000] loss: 0.407\n",
            "[36, 12000] loss: 0.393\n",
            "[37,  2000] loss: 0.384\n",
            "[37,  4000] loss: 0.377\n",
            "[37,  6000] loss: 0.370\n",
            "[37,  8000] loss: 0.389\n",
            "[37, 10000] loss: 0.381\n",
            "[37, 12000] loss: 0.377\n",
            "[38,  2000] loss: 0.373\n",
            "[38,  4000] loss: 0.379\n",
            "[38,  6000] loss: 0.364\n",
            "[38,  8000] loss: 0.410\n",
            "[38, 10000] loss: 0.383\n",
            "[38, 12000] loss: 0.372\n",
            "[39,  2000] loss: 0.353\n",
            "[39,  4000] loss: 0.373\n",
            "[39,  6000] loss: 0.366\n",
            "[39,  8000] loss: 0.372\n",
            "[39, 10000] loss: 0.400\n",
            "[39, 12000] loss: 0.381\n",
            "[40,  2000] loss: 0.364\n",
            "[40,  4000] loss: 0.368\n",
            "[40,  6000] loss: 0.356\n",
            "[40,  8000] loss: 0.382\n",
            "[40, 10000] loss: 0.374\n",
            "[40, 12000] loss: 0.358\n",
            "Finished Training\n"
          ],
          "name": "stdout"
        }
      ]
    },
    {
      "cell_type": "markdown",
      "metadata": {
        "id": "YLrvL_fHpoC5",
        "colab_type": "text"
      },
      "source": [
        "5. Test the network on the test data\n",
        "^^^^^^^^^^^^^^^^^^^^^^^^^^^^^^^^^^^^\n",
        "\n",
        "We have trained the network for 2 passes over the training dataset.\n",
        "But we need to check if the network has learnt anything at all.\n",
        "\n",
        "We will check this by predicting the class label that the neural network\n",
        "outputs, and checking it against the ground-truth. If the prediction is\n",
        "correct, we add the sample to the list of correct predictions.\n",
        "\n",
        "Okay, first step. Let us display an image from the test set to get familiar.\n",
        "\n"
      ]
    },
    {
      "cell_type": "code",
      "metadata": {
        "id": "nizbsvw9poC6",
        "colab_type": "code",
        "colab": {}
      },
      "source": [
        "dataiter = iter(testloader)\n",
        "images, labels = dataiter.next()\n",
        "\n",
        "images, labels = images.cuda(), labels.cuda()\n",
        "# I added this line ####\n",
        "images, labels = images.to(device), labels.to(device)\n",
        "\n",
        "# print images\n",
        "#imshow(torchvision.utils.make_grid(images))\n",
        "#print('GroundTruth: ', ' '.join('%5s' % classes[labels[j]] for j in range(4)))"
      ],
      "execution_count": 0,
      "outputs": []
    },
    {
      "cell_type": "markdown",
      "metadata": {
        "id": "DAx4QPHVpoC8",
        "colab_type": "text"
      },
      "source": [
        "Okay, now let us see what the neural network thinks these examples above are:\n",
        "\n"
      ]
    },
    {
      "cell_type": "code",
      "metadata": {
        "id": "HVLjlssWpoC9",
        "colab_type": "code",
        "colab": {}
      },
      "source": [
        "outputs = net(images)"
      ],
      "execution_count": 0,
      "outputs": []
    },
    {
      "cell_type": "markdown",
      "metadata": {
        "id": "u8OTHZEApoC_",
        "colab_type": "text"
      },
      "source": [
        "The outputs are energies for the 10 classes.\n",
        "Higher the energy for a class, the more the network\n",
        "thinks that the image is of the particular class.\n",
        "So, let's get the index of the highest energy:\n",
        "\n"
      ]
    },
    {
      "cell_type": "code",
      "metadata": {
        "id": "ABRIDW3lpoDA",
        "colab_type": "code",
        "outputId": "390c2c02-c05c-4679-f26c-dcf4409b5f95",
        "colab": {
          "base_uri": "https://localhost:8080/",
          "height": 35
        }
      },
      "source": [
        "_, predicted = torch.max(outputs, 1)\n",
        "\n",
        "print('Predicted: ', ' '.join('%5s' % classes[predicted[j]]\n",
        "                              for j in range(4)))"
      ],
      "execution_count": 36,
      "outputs": [
        {
          "output_type": "stream",
          "text": [
            "Predicted:    cat  ship  ship plane\n"
          ],
          "name": "stdout"
        }
      ]
    },
    {
      "cell_type": "markdown",
      "metadata": {
        "id": "2TV0TXL1poDC",
        "colab_type": "text"
      },
      "source": [
        "The results seem pretty good.\n",
        "\n",
        "Let us look at how the network performs on the whole dataset.\n",
        "\n"
      ]
    },
    {
      "cell_type": "code",
      "metadata": {
        "id": "SZ4-5CESpoDD",
        "colab_type": "code",
        "outputId": "474fad53-a778-41ba-b69f-377e41961379",
        "colab": {
          "base_uri": "https://localhost:8080/",
          "height": 35
        }
      },
      "source": [
        "correct = 0\n",
        "total = 0\n",
        "with torch.no_grad():\n",
        "    for data in testloader:\n",
        "        images, labels = data\n",
        "        images, labels = images.cuda(), labels.cuda()\n",
        "        # I added this line ####\n",
        "        images, labels = images.to(device), labels.to(device)\n",
        "        outputs = net(images)\n",
        "        _, predicted = torch.max(outputs.data, 1)\n",
        "        total += labels.size(0)\n",
        "        correct += (predicted == labels).sum().item()\n",
        "\n",
        "print('Accuracy of the network on the 10000 test images: %d %%' % (\n",
        "    100 * correct / total))"
      ],
      "execution_count": 37,
      "outputs": [
        {
          "output_type": "stream",
          "text": [
            "Accuracy of the network on the 10000 test images: 79 %\n"
          ],
          "name": "stdout"
        }
      ]
    },
    {
      "cell_type": "markdown",
      "metadata": {
        "id": "eDdwPBl8poDF",
        "colab_type": "text"
      },
      "source": [
        "That looks waaay better than chance, which is 10% accuracy (randomly picking\n",
        "a class out of 10 classes).\n",
        "Seems like the network learnt something.\n",
        "\n",
        "Hmmm, what are the classes that performed well, and the classes that did\n",
        "not perform well:\n",
        "\n"
      ]
    },
    {
      "cell_type": "code",
      "metadata": {
        "id": "pDNFuDEDpoDG",
        "colab_type": "code",
        "outputId": "acb96134-c5bd-49db-cf53-95d505adbaa8",
        "colab": {
          "base_uri": "https://localhost:8080/",
          "height": 191
        }
      },
      "source": [
        "class_correct = list(0. for i in range(10))\n",
        "class_total = list(0. for i in range(10))\n",
        "with torch.no_grad():\n",
        "    for data in testloader:\n",
        "        images, labels = data\n",
        "        images, labels = images.cuda(), labels.cuda()\n",
        "        # I added this line ####\n",
        "        images, labels = images.to(device), labels.to(device)\n",
        "        outputs = net(images)\n",
        "        _, predicted = torch.max(outputs, 1)\n",
        "        c = (predicted == labels).squeeze()\n",
        "        for i in range(4):\n",
        "            label = labels[i]\n",
        "            class_correct[label] += c[i].item()\n",
        "            class_total[label] += 1\n",
        "\n",
        "\n",
        "for i in range(10):\n",
        "    print('Accuracy of %5s : %2d %%' % (\n",
        "        classes[i], 100 * class_correct[i] / class_total[i]))"
      ],
      "execution_count": 38,
      "outputs": [
        {
          "output_type": "stream",
          "text": [
            "Accuracy of plane : 83 %\n",
            "Accuracy of   car : 89 %\n",
            "Accuracy of  bird : 71 %\n",
            "Accuracy of   cat : 62 %\n",
            "Accuracy of  deer : 77 %\n",
            "Accuracy of   dog : 69 %\n",
            "Accuracy of  frog : 87 %\n",
            "Accuracy of horse : 81 %\n",
            "Accuracy of  ship : 82 %\n",
            "Accuracy of truck : 85 %\n"
          ],
          "name": "stdout"
        }
      ]
    }
  ]
}